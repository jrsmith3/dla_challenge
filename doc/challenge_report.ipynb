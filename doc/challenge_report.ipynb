{
 "cells": [
  {
   "cell_type": "markdown",
   "metadata": {},
   "source": [
    "Predicting behavior of a complicated physical system\n",
    "====================================================\n",
    "\n",
    "Neural networks (NNs) have been employed to great effect in recent years as a result of improvements in deep learning algorithms.\n",
    "NNs are typically employed in computer vision applications such as image classification (i.e. finding pictures of dogs or cats) and handwriting recognition \\cite{}.\n",
    "\n",
    "NNs can be constructed in a number of configurations, but before a NN can be deployed, it must be \"trained\".\n",
    "Training involves adjusting the weights of the neurons comprising the net such that the net properly categorizes a set of training data.\n",
    "\n",
    "Although NNs seem to mostly be used for image processing applications, there are some reports of applying NNs to problems in physics.\n",
    "For example, Grzeszczuk et.al. \\cite{} used a NN to generate physically plausible computer animations.\n",
    "After training, their NN was able to produce physically realistic motion faster than the approach of solving the system's equations of motion.\n",
    "\n",
    "The upshot of modeling physical systems with a NN is as follows.\n",
    "Consider the task fo developing control software for an autonomous vehicle (e.g. drone aircraft, driverless car, etc.) or for a robot.\n",
    "At some point during development a prototype machine must be constructed and deployed in a test envorinment. \n",
    "For example, consider a driverless car whos task is to navigate a street with pedestrian crossing.\n",
    "If the task is to navigate the street without hitting pedestrians, then the two outcomes are clear: hit pedestrian or didn't hit pedestrian.\n",
    "Thus, a navigation strategy can be input into the NN and tested.\n",
    "\n",
    "Another important aspect of this problem is that its easily simulated.\n",
    "Instead of building a prototype vehicle and organizing a training course, the vehicle and course can be simulated in software.\n",
    "This approach should speed training since the computer can parallelize training simulations.\n",
    "Additionally, this approach is presumably less expensive \\cite{IEEE Spectrum}.\n",
    "\n",
    "Given the limited amount of time to work on this project, I chose a much simpler problem to solve which is based on a physical simulation.\n",
    "Specifically the task is to determine the value of the maximum motive for a thermoelectron engine given the operating parameters of the device.\n",
    "This problem is good because it is not trivial but it is not as complicated as the examples listed above.\n",
    "Moreover, I've written code to perform this simulation and so it is suited for the problem of generating training data for the NN."
   ]
  },
  {
   "cell_type": "markdown",
   "metadata": {},
   "source": [
    "Background on thermoelectron engine\n",
    "===================================\n",
    "A thermoelectron engine, also known as a thermoelectron energy converter or TEC, is a thermodynamic heat engine consisting of two electrodes enclosed in an evacuated container.\n",
    "The electrodes are separated by a distance named the interelectrode spacing.\n",
    "The emitter electrode is held at a higher temperature than the collector electrode, and electrons are emitted via the phenomenon of thermoelectron emission.\n",
    "These thermoelectrons travel across the interelectrode space and arrive at the collector where they are absorbed. \n",
    "The electrons then travel through a lead, through an external load where work is done, and back to the emitter to complete the circuit.\n",
    "\n",
    "The interesting output parameters of this device, such as the output power density and efficiency, are fully determined by the electron transport across the device.\n",
    "Specifically, the output parameters are determined by a quantity known as the maximum motive of the device.\n",
    "This quantity is essentially the highest barrier electrons encounter as they traverse the device.\n",
    "There is a difficulty in calculating the maximum motive because the electron transport cannot be expressed by a closed-form equation.\n",
    "Instead, a set of coupled differential equations must be self-consistently solved.\n",
    "\n",
    "The `tec` python module I wrote implements a numerical solution to the electron transport problem described above and is used as the simulator to generate the training and validation data for the NN."
   ]
  },
  {
   "cell_type": "markdown",
   "metadata": {},
   "source": [
    "TK1 configuraiton and devops\n",
    "============================\n",
    "The TK1 ships with an installation of ubuntu; there's a user named ubuntu with password ubuntu.\n",
    "I plugged the TK1 into the power supply and connected it via an ethernet cable to the network; all communication with the TK1 was performed via SSH.\n",
    "According to the setup instructions, I must [execute a command so that `apt` doesn't clobber `libglx.so`](http://elinux.org/Jetson_TK1#An_important_step_before_connecting_the_Jetson_to_Internet) **before** connecting the board to the internet.\n",
    "\n",
    "For the sake of convenience and good systems administration, I wanted to configure the TK1 so that I could log in without a password using an SSH key.\n",
    "I also wanted a user named \"jrsmith3\" to match the username on my notebook in which I will install all of the code and administer the machine.\n",
    "Finally, I wanted to change the default password for the \"ubuntu\" user for the sake of security.\n",
    "\n",
    "Change `ubuntu` user password\n",
    "-----------------------------\n",
    "First, I logged into the TK1 via the user \"ubuntu.\"\n",
    "I used the [passwordstore utility](http://www.passwordstore.org/) on my notebook to generate a difficult-to-guess password for this machine.\n",
    "\n",
    "password: U33HzPE-(.vIQJ\\:3kj_\n",
    "\n",
    "\n",
    "Prevent `apt` from clobbering `libglx.so`\n",
    "-----------------------------------------\n",
    "I just [followed the instructions](http://elinux.org/Jetson_TK1#An_important_step_before_connecting_the_Jetson_to_Internet). I also plugged the router back into the cable modem and I'm back on the internet.\n",
    "\n",
    "\n",
    "Create a user `jrsmith3`\n",
    "------------------------\n",
    "Pretty simple.\n",
    "\n",
    "```\n",
    "$ sudo adduser jrsmith3\n",
    "Adding user `jrsmith3' ...\n",
    "Adding new group `jrsmith3' (1001) ...\n",
    "Adding new user `jrsmith3' (1001) with group `jrsmith3' ...\n",
    "Creating home directory `/home/jrsmith3' ...\n",
    "Copying files from `/etc/skel' ...\n",
    "Enter new UNIX password: \n",
    "Retype new UNIX password: \n",
    "passwd: password updated successfully\n",
    "Changing the user information for jrsmith3\n",
    "Enter the new value, or press ENTER for the default\n",
    "    Full Name []: Joshua Ryan Smith\n",
    "    Room Number []: \n",
    "    Work Phone []: \n",
    "    Home Phone []: \n",
    "    Other []: joshua.r.smith@gmail.com\n",
    "Is the information correct? [Y/n] y\n",
    "Adding new user `jrsmith3' to extra groups ...\n",
    "Adding user `jrsmith3' to group `video' ...\n",
    "```\n",
    "\n",
    "\n",
    "Give user `jrsmith3` sudo access\n",
    "--------------------------------\n",
    "For sysadmin purposes.\n",
    "\n",
    "```\n",
    "ubuntu@tegra-ubuntu:~$ sudo usermod -a -G sudo jrsmith3\n",
    "```\n",
    "\n",
    "\n",
    "Allow ssh logins via ssh keys\n",
    "-----------------------------\n",
    "Maybe this feature is already set up. I will try to copy my public ssh key from gamma over to the TX1. First, I had to create an `.ssh` directory on the TX1.\n",
    "\n",
    "```\n",
    "jrsmith3@tegra-ubuntu:~$ mkdir .ssh\n",
    "```\n",
    "\n",
    "Then I use scp to copy my ssh key to the TX1.\n",
    "\n",
    "```\n",
    "gamma:$ scp -rCp ~/.ssh/id_rsa.pub jrsmith3@tegra-ubuntu:.ssh\n",
    "jrsmith3@tegra-ubuntu's password: \n",
    "id_rsa.pub                                    100%  396     0.4KB/s   00:00\n",
    "```\n",
    "\n",
    "The ssh key is on the TX1, but logging out and logging back in I still had to enter my password.\n",
    "\n",
    "\n",
    "At this point I'm going to have to modify files in `/etc` and so I should probably set up `etckeeper`. To do that, I should also probably update the packages.\n",
    "\n",
    "\n",
    "Update apt and packages\n",
    "-----------------------\n",
    "Simple.\n",
    "\n",
    "```\n",
    "sudo apt-add-repository universe\n",
    "sudo apt-get update\n",
    "```\n",
    "\n",
    "I will also install `bash-completion` and `command-not-found` as suggested in the instructions.\n",
    "\n",
    "\n",
    "Install `etckeeper`, `git`, and other utils\n",
    "-------------------------------------------\n",
    "I need to modify some things in `~etc`, so I will [install `etckeeper`](https://help.ubuntu.com/lts/serverguide/etckeeper.html) as well.\n",
    "\n",
    "```\n",
    "sudo apt-get install etckeeper\n",
    "```\n",
    "\n",
    "I'm pretty sure the above pulled in `bzr` and set up `/etc` as a `bzr` repo. [I want git instead](http://evilrouters.net/2011/02/18/using-etckeeper-with-git-on-ubuntu/).\n",
    "\n",
    "```\n",
    "sudo apt-get install -y git-core\n",
    "```\n",
    "\n",
    "Configure git\n",
    "\n",
    "```\n",
    "$ git config --global user.name \"Joshua Ryan Smith\"\n",
    "$ git config --global user.email joshua.r.smith@gmail.com\n",
    "```\n",
    "\n",
    "After the above commands, I modified `/etc/etckeeper/etckeeper.conf` to use git. I had to unintialize `etckeeper` so that it would remove the bzr repo and use git instead.\n",
    "\n",
    "```\n",
    "$ sudo etckeeper uninit\n",
    "[sudo] password for jrsmith3: \n",
    "** Warning: This will DESTROY all recorded history for /etc,\n",
    "** including the bzr repository.\n",
    "\n",
    "Are you sure you want to do this? [yN] y\n",
    "Proceeding..\n",
    "```\n",
    "\n",
    "Next, I initialize `etckeeper`.\n",
    "\n",
    "```\n",
    "$ sudo etckeeper init\n",
    "Initialized empty Git repository in /etc/.git/\n",
    "$ sudo etckeeper commit \"Initial commit.\"\n",
    "```\n",
    "\n",
    "Now everything looks right.\n",
    "\n",
    "\n",
    "Allow ssh logins via ssh keys, revisited\n",
    "----------------------------------------\n",
    "[Derp](http://askubuntu.com/questions/54670/passwordless-ssh-not-working). I copied `id_rsa.pub` to the TK1, but I didn't add it to the `~/.ssh/authorized_keys` file.\n",
    "\n",
    "\n",
    "Upgrade packages\n",
    "----------------\n",
    "Simple.\n",
    "\n",
    "```\n",
    "sudo apt-get upgrade\n",
    "```\n",
    "\n",
    "\n",
    "Install Continuum.io's anaconda\n",
    "-------------------------------\n"
   ]
  },
  {
   "cell_type": "markdown",
   "metadata": {},
   "source": [
    "# TK1 conda environment\n",
    "\n",
    "```bash\n",
    "conda create -yp ./env python\n",
    "conda install -y -c jrsmith3 tec ipython -p ./env\n",
    "source activate ./env\n",
    "```"
   ]
  },
  {
   "cell_type": "code",
   "execution_count": 4,
   "metadata": {
    "collapsed": true
   },
   "outputs": [],
   "source": [
    "import itertools\n",
    "import time\n",
    "import json\n",
    "import sys\n",
    "import tec\n",
    "import numpy as np"
   ]
  },
  {
   "cell_type": "code",
   "execution_count": 5,
   "metadata": {
    "collapsed": false
   },
   "outputs": [],
   "source": [
    "em_params = {\"temp\": 1000.,\n",
    "             \"barrier\": 2.,\n",
    "             \"richardson\": 10., }\n",
    "\n",
    "co_params = {\"temp\": 300.,\n",
    "             \"barrier\": 1.,\n",
    "             \"richardson\": 10.,\n",
    "             \"position\": 10., }\n",
    "\n",
    "emitter_temps = [(\"emitter\", \"temp\", val) for val in np.linspace(300, 2000, 10)]\n",
    "emitter_barriers = [(\"emitter\", \"barrier\", val) for val in np.linspace(1, 4, 10)]\n",
    "collector_barriers = [(\"collector\", \"barrier\", val) for val in np.linspace(1, 4, 10)]\n",
    "collector_voltages = [(\"collector\", \"voltage\", val) for val in np.linspace(0, 2, 20)]\n",
    "collector_positions = [(\"collector\", \"position\", val) for val in np.linspace(1, 10, 5)]"
   ]
  },
  {
   "cell_type": "code",
   "execution_count": 6,
   "metadata": {
    "collapsed": false
   },
   "outputs": [
    {
     "name": "stdout",
     "output_type": "stream",
     "text": [
      "10000\n",
      "20000\n",
      "30000\n",
      "40000\n",
      "50000\n",
      "60000\n",
      "70000\n",
      "80000\n",
      "90000\n",
      "Initialization time for list of Langmuir objects:\n",
      "4860.82978487\n"
     ]
    }
   ],
   "source": [
    "# There's a better way to do this with iterators\n",
    "data = []\n",
    "\n",
    "start_time = time.time()\n",
    "for itr in itertools.product(emitter_temps, emitter_barriers, collector_barriers, collector_voltages, collector_positions):\n",
    "    # Construct dictionaries out of the combination of parameters\n",
    "    em_dict = dict([itm[1:] for itm in itr if itm[0] == \"emitter\"])\n",
    "    co_dict = dict([itm[1:] for itm in itr if itm[0] == \"collector\"])\n",
    "    \n",
    "    # Update the dictionaries used to initialize the TEC electrodes\n",
    "    em_params = dict(em_params.items() + em_dict.items())\n",
    "    co_params = dict(co_params.items() + co_dict.items())\n",
    "    \n",
    "    # Create electrodes and `Langmuir` objects\n",
    "    em = tec.electrode.Metal.from_dict(em_params)\n",
    "    co = tec.electrode.Metal.from_dict(co_params)\n",
    "    \n",
    "    data.append(tec.models.Langmuir(em, co))\n",
    "    \n",
    "print \"Initialization time for list of Langmuir objects:\"\n",
    "print time.time() - start_time"
   ]
  },
  {
   "cell_type": "code",
   "execution_count": 7,
   "metadata": {
    "collapsed": false
   },
   "outputs": [
    {
     "name": "stdout",
     "output_type": "stream",
     "text": [
      "Write time of JSON formatted file:\n",
      "4984.23444796\n"
     ]
    }
   ],
   "source": [
    "start_time = time.time()\n",
    "with open(\"data.json\", \"w\") as f:\n",
    "    f.write(json.dumps(data, default=tec.io.to_json, indent=4))\n",
    "\n",
    "print \"Write time of JSON formatted file:\"\n",
    "print time.time() - start_time"
   ]
  },
  {
   "cell_type": "code",
   "execution_count": 8,
   "metadata": {
    "collapsed": false
   },
   "outputs": [
    {
     "name": "stdout",
     "output_type": "stream",
     "text": [
      "Length of data array:\n",
      "100000\n",
      "Size of data array in memory\n",
      "824472\n"
     ]
    }
   ],
   "source": [
    "print \"Length of data array:\"\n",
    "print len(data)\n",
    "print \"Size of data array in memory\"\n",
    "print sys.getsizeof(data)"
   ]
  },
  {
   "cell_type": "code",
   "execution_count": null,
   "metadata": {
    "collapsed": true
   },
   "outputs": [],
   "source": []
  }
 ],
 "metadata": {
  "kernelspec": {
   "display_name": "Python 2",
   "language": "python",
   "name": "python2"
  },
  "language_info": {
   "codemirror_mode": {
    "name": "ipython",
    "version": 2
   },
   "file_extension": ".py",
   "mimetype": "text/x-python",
   "name": "python",
   "nbconvert_exporter": "python",
   "pygments_lexer": "ipython2",
   "version": "2.7.11"
  }
 },
 "nbformat": 4,
 "nbformat_minor": 0
}
